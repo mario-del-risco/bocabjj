{
 "cells": [
  {
   "cell_type": "code",
   "execution_count": 1,
   "metadata": {},
   "outputs": [
    {
     "name": "stdout",
     "output_type": "stream",
     "text": [
      "Extracted code from 6 files.\n",
      "Code copied to clipboard.\n"
     ]
    }
   ],
   "source": [
    "import os\n",
    "import pyperclip\n",
    "\n",
    "def extract_file_content(root_dir):\n",
    "    all_code = []\n",
    "    \n",
    "    for dirpath, dirnames, filenames in os.walk(root_dir):\n",
    "        # Skip node_modules and other irrelevant directories\n",
    "        if 'node_modules' in dirpath:\n",
    "            continue\n",
    "        \n",
    "        for filename in filenames:\n",
    "            # Focus on code-related files\n",
    "            if filename.endswith(('.jsx', '.css')) and filename[0] != \".\":\n",
    "                full_path = os.path.join(dirpath, filename)\n",
    "                \n",
    "                try:\n",
    "                    with open(full_path, 'r', encoding='utf-8') as file:\n",
    "                        content = file.read()\n",
    "                        all_code.append(f\"FILE: {full_path}\\n{content}\\n\\n{'='*50}\\n\")\n",
    "                except Exception as e:\n",
    "                    print(f\"Error reading {full_path}: {e}\")\n",
    "    \n",
    "    return all_code\n",
    "\n",
    "def main():\n",
    "    # Replace with your project's root directory path\n",
    "    root_dir = r\"C:\\Users\\mario\\bocabjj\"\n",
    "    \n",
    "    code_contents = extract_file_content(root_dir)\n",
    "    full_code_text = ''.join(code_contents)\n",
    "    \n",
    "    pyperclip.copy(full_code_text)\n",
    "    print(f\"Extracted code from {len(code_contents)} files.\")\n",
    "    print(\"Code copied to clipboard.\")\n",
    "\n",
    "if __name__ == \"__main__\":\n",
    "    main()"
   ]
  }
 ],
 "metadata": {
  "kernelspec": {
   "display_name": "Python 3",
   "language": "python",
   "name": "python3"
  },
  "language_info": {
   "codemirror_mode": {
    "name": "ipython",
    "version": 3
   },
   "file_extension": ".py",
   "mimetype": "text/x-python",
   "name": "python",
   "nbconvert_exporter": "python",
   "pygments_lexer": "ipython3",
   "version": "3.13.0"
  }
 },
 "nbformat": 4,
 "nbformat_minor": 2
}
